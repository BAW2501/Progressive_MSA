{
 "cells": [
  {
   "cell_type": "code",
   "execution_count": 8,
   "metadata": {},
   "outputs": [],
   "source": [
    "import scipy as sp\n",
    "import numpy as np\n",
    "from skbio import DistanceMatrix,DNA,TreeNode \n",
    "\n",
    "\n",
    "def hamming_distance(sequence1, sequence2):\n",
    "    n, m = len(sequence1), len(sequence2)\n",
    "    return sum(sequence1[i] != sequence2[i] for i in range(min(n, m))) + abs(n-m)\n",
    "def example_guide_tree_generation(sequences, metric=hamming_distance):\n",
    "    guide_dm = DistanceMatrix.from_iterable(sequences, metric=metric, key='id')\n",
    "    print(guide_dm)\n",
    "    print(type(guide_dm))\n",
    "    print(guide_dm.condensed_form())\n",
    "    guide_lm = sp.cluster.hierarchy.average(guide_dm.condensed_form())\n",
    "    print(guide_lm)\n",
    "    print(type(guide_lm))\n",
    "    guide_tree = TreeNode.from_linkage_matrix(guide_lm, guide_dm.ids)\n",
    "    return guide_tree"
   ]
  },
  {
   "cell_type": "markdown",
   "metadata": {},
   "source": [
    "# not the best thing out there "
   ]
  },
  {
   "cell_type": "code",
   "execution_count": 9,
   "metadata": {},
   "outputs": [
    {
     "name": "stdout",
     "output_type": "stream",
     "text": [
      "4x4 distance matrix\n",
      "IDs:\n",
      "'seq1', 'seq2', 'seq3', 'seq4'\n",
      "Data:\n",
      "[[ 0. 21. 21. 21.]\n",
      " [21.  0. 21. 21.]\n",
      " [21. 21.  0. 21.]\n",
      " [21. 21. 21.  0.]]\n",
      "<class 'skbio.stats.distance._base.DistanceMatrix'>\n",
      "[21. 21. 21. 21. 21. 21.]\n",
      "[[ 0.  1. 21.  2.]\n",
      " [ 2.  4. 21.  3.]\n",
      " [ 3.  5. 21.  4.]]\n",
      "<class 'numpy.ndarray'>\n"
     ]
    },
    {
     "data": {
      "text/plain": [
       "<TreeNode, name: unnamed, internal node count: 2, tips count: 4>"
      ]
     },
     "execution_count": 9,
     "metadata": {},
     "output_type": "execute_result"
    }
   ],
   "source": [
    "query_of_sequences = [  DNA(\"ACGCGATGACCGGGCCTTGTA\", metadata={'id': 'seq1'}),\n",
    "                        DNA(\"ATGATGACAGGGCTTGTAACT\", metadata={'id': 'seq2'}),\n",
    "                        DNA(\"TTCATGACCGGCTTATACTTA\", metadata={'id': 'seq3'}),\n",
    "                        DNA(\"ACCCTACCTGTCGTATTGTAA\", metadata={'id': 'seq4'}),\n",
    "                      ]\n",
    "result =example_guide_tree_generation(query_of_sequences)\n",
    "result"
   ]
  },
  {
   "cell_type": "code",
   "execution_count": 11,
   "metadata": {},
   "outputs": [],
   "source": [
    "\n",
    "from matplotlib import pyplot as plt\n",
    "from scipy.cluster.hierarchy import dendrogram\n",
    "from sklearn.datasets import load_iris\n",
    "from sklearn.cluster import AgglomerativeClustering\n",
    "\n",
    "def get_linkage_matrix(model,verbose=True, **kwargs):\n",
    "    # Create linkage matrix and then plot the dendrogram\n",
    "\n",
    "    # create the counts of samples under each node\n",
    "    counts = np.zeros(model.children_.shape[0])\n",
    "    n_samples = len(model.labels_)\n",
    "    for i, merge in enumerate(model.children_):\n",
    "        current_count = 0\n",
    "        for child_idx in merge:\n",
    "            if child_idx < n_samples:\n",
    "                current_count += 1  # leaf node\n",
    "            else:\n",
    "                current_count += counts[child_idx - n_samples]\n",
    "        counts[i] = current_count\n",
    "\n",
    "    linkage_matrix = np.column_stack([model.children_, model.distances_, counts]).astype(float)\n",
    "\n",
    "    # Plot the corresponding dendrogram\n",
    "    if verbose:\n",
    "        dendrogram(linkage_matrix, **kwargs)\n",
    "    return linkage_matrix\n"
   ]
  },
  {
   "cell_type": "code",
   "execution_count": 12,
   "metadata": {},
   "outputs": [
    {
     "data": {
      "image/png": "[encoded data removed]",
      "text/plain": [
       "<Figure size 640x480 with 1 Axes>"
      ]
     },
     "metadata": {},
     "output_type": "display_data"
    }
   ],
   "source": [
    "X = np.array([\n",
    "    list('ACGCGATGACCGGGCCTTGTA'),\n",
    "    list('ATGATGACAGGGCTTGTAACT'),\n",
    "    list('TTCATGACCGGCTTATACTTA')\n",
    "])\n",
    "\n",
    "# one hot encode the data\n",
    "X = np.array([[1 if x == y else 0 for x in 'ACGT'] for y in X.flatten()]).reshape(X.shape[0], -1)\n",
    "# setting distance_threshold=0 ensures we compute the full tree.\n",
    "model = AgglomerativeClustering(distance_threshold=0, n_clusters=None)\n",
    "\n",
    "model = model.fit(X)\n",
    "plt.title(\"Hierarchical Clustering Dendrogram\")\n",
    "# plot the top three levels of the dendrogram\n",
    "linkage_mat = get_linkage_matrix(model, truncate_mode=\"level\", p=3)\n",
    "plt.xlabel(\"Number of points in node (or index of point if no parenthesis).\")\n",
    "plt.show()"
   ]
  },
  {
   "cell_type": "code",
   "execution_count": null,
   "metadata": {},
   "outputs": [],
   "source": []
  }
 ],
 "metadata": {
  "kernelspec": {
   "display_name": "Python 3 (ipykernel)",
   "language": "python",
   "name": "python3"
  },
  "language_info": {
   "codemirror_mode": {
    "name": "ipython",
    "version": 3
   },
   "file_extension": ".py",
   "mimetype": "text/x-python",
   "name": "python",
   "nbconvert_exporter": "python",
   "pygments_lexer": "ipython3",
   "version": "3.10.4"
  },
  "vscode": {
   "interpreter": {
    "hash": "3ad933181bd8a04b432d3370b9dc3b0662ad032c4dfaa4e4f1596c548f763858"
   }
  }
 },
 "nbformat": 4,
 "nbformat_minor": 4
}
