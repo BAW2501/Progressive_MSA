{
 "cells": [
  {
   "cell_type": "code",
   "execution_count": 30,
   "metadata": {},
   "outputs": [],
   "source": [
    "import scipy as sp\n",
    "import numpy as np\n",
    "from skbio import DistanceMatrix,DNA,TreeNode \n",
    "\n",
    "\n",
    "def hamming_distance(sequence1, sequence2):\n",
    "    n, m = len(sequence1), len(sequence2)\n",
    "    return sum(sequence1[i] != sequence2[i] for i in range(min(n, m))) + abs(n-m)\n",
    "def example_guide_tree_generation(sequences, metric=hamming_distance):\n",
    "    guide_dm = DistanceMatrix.from_iterable(sequences, metric=metric, key='id')\n",
    "    print(guide_dm)\n",
    "    print(type(guide_dm))\n",
    "    print(guide_dm.condensed_form())\n",
    "    guide_lm = sp.cluster.hierarchy.average(guide_dm.condensed_form())\n",
    "    print(guide_lm)\n",
    "    print(type(guide_lm))\n",
    "    guide_tree = TreeNode.from_linkage_matrix(guide_lm, guide_dm.ids)\n",
    "    return guide_tree"
   ]
  },
  {
   "cell_type": "markdown",
   "metadata": {},
   "source": [
    "# not the best thing out there "
   ]
  },
  {
   "cell_type": "code",
   "execution_count": 31,
   "metadata": {},
   "outputs": [
    {
     "name": "stdout",
     "output_type": "stream",
     "text": [
      "4x4 distance matrix\n",
      "IDs:\n",
      "'seq1', 'seq2', 'seq3', 'seq4'\n",
      "Data:\n",
      "[[ 0. 25. 25. 25.]\n",
      " [25.  0. 22. 22.]\n",
      " [25. 22.  0. 22.]\n",
      " [25. 22. 22.  0.]]\n",
      "<class 'skbio.stats.distance._base.DistanceMatrix'>\n",
      "[25. 25. 25. 22. 22. 22.]\n",
      "[[ 1.  2. 22.  2.]\n",
      " [ 3.  4. 22.  3.]\n",
      " [ 0.  5. 25.  4.]]\n",
      "<class 'numpy.ndarray'>\n"
     ]
    },
    {
     "data": {
      "text/plain": [
       "<TreeNode, name: unnamed, internal node count: 2, tips count: 4>"
      ]
     },
     "execution_count": 31,
     "metadata": {},
     "output_type": "execute_result"
    }
   ],
   "source": [
    "query_of_sequences = [DNA(\"ACGCGATGACCGGGCCTTGTAAAAT\", metadata={'id': 'seq1'}),\n",
    "                        DNA(\"ATGATGACAGGGCTTGTAACT\", metadata={'id': 'seq2'}),\n",
    "                        DNA(\"TTCATGACCGGCTTATACTTAT\", metadata={'id': 'seq3'}),\n",
    "                        DNA(\"ACCCTACCTGTCGTATTGTAAT\", metadata={'id': 'seq4'}),\n",
    "                      ]\n",
    "result =example_guide_tree_generation(query_of_sequences)\n",
    "result"
   ]
  },
  {
   "cell_type": "code",
   "execution_count": null,
   "metadata": {},
   "outputs": [],
   "source": []
  }
 ],
 "metadata": {
  "kernelspec": {
   "display_name": "Python 3 (ipykernel)",
   "language": "python",
   "name": "python3"
  },
  "language_info": {
   "codemirror_mode": {
    "name": "ipython",
    "version": 3
   },
   "file_extension": ".py",
   "mimetype": "text/x-python",
   "name": "python",
   "nbconvert_exporter": "python",
   "pygments_lexer": "ipython3",
   "version": "3.10.4"
  },
  "vscode": {
   "interpreter": {
    "hash": "3ad933181bd8a04b432d3370b9dc3b0662ad032c4dfaa4e4f1596c548f763858"
   }
  }
 },
 "nbformat": 4,
 "nbformat_minor": 4
}
