{
 "cells": [
  {
   "cell_type": "code",
   "execution_count": 1,
   "metadata": {},
   "outputs": [],
   "source": [
    "import numpy as np\n",
    "from matplotlib import pyplot as plt\n",
    "from scipy.cluster.hierarchy import dendrogram # just for displaying\n",
    "from sklearn.cluster import AgglomerativeClustering\n"
   ]
  },
  {
   "cell_type": "code",
   "execution_count": 3,
   "metadata": {},
   "outputs": [],
   "source": [
    "def get_linkage_matrix(children, distances, n_samples):\n",
    "    # Create linkage matrix and then plot the dendrogram\n",
    "    # create the counts of samples under each node\n",
    "    counts = np.zeros(children.shape[0])\n",
    "    for i, merge in enumerate(children):\n",
    "        counts[i] = sum(1 if child_idx < n_samples else counts[child_idx - n_samples] for child_idx in merge)\n",
    "    linkage_matrix = np.column_stack([children,distances, counts]).astype(float)\n",
    "    return linkage_matrix"
   ]
  },
  {
   "cell_type": "code",
   "execution_count": 4,
   "metadata": {},
   "outputs": [
    {
     "ename": "TypeError",
     "evalue": "get_linkage_matrix() missing 2 required positional arguments: 'distances' and 'n_samples'",
     "output_type": "error",
     "traceback": [
      "\u001b[1;31m---------------------------------------------------------------------------\u001b[0m",
      "\u001b[1;31mTypeError\u001b[0m                                 Traceback (most recent call last)",
      "Cell \u001b[1;32mIn [4], line 15\u001b[0m\n\u001b[0;32m     13\u001b[0m plt\u001b[39m.\u001b[39mtitle(\u001b[39m\"\u001b[39m\u001b[39mHierarchical Clustering Dendrogram\u001b[39m\u001b[39m\"\u001b[39m)\n\u001b[0;32m     14\u001b[0m \u001b[39m# plot the top three levels of the dendrogram\u001b[39;00m\n\u001b[1;32m---> 15\u001b[0m linkage_mat \u001b[39m=\u001b[39m get_linkage_matrix(model)\n\u001b[0;32m     16\u001b[0m plt\u001b[39m.\u001b[39mxlabel(\u001b[39m\"\u001b[39m\u001b[39mNumber of points in node (or index of point if no parenthesis).\u001b[39m\u001b[39m\"\u001b[39m)\n\u001b[0;32m     17\u001b[0m plt\u001b[39m.\u001b[39mshow()\n",
      "\u001b[1;31mTypeError\u001b[0m: get_linkage_matrix() missing 2 required positional arguments: 'distances' and 'n_samples'"
     ]
    },
    {
     "data": {
      "image/png": "[encoded data removed]",
      "text/plain": [
       "<Figure size 640x480 with 1 Axes>"
      ]
     },
     "metadata": {},
     "output_type": "display_data"
    }
   ],
   "source": [
    "X = np.array([\n",
    "    list('ACGCGATGACCGGGCCTTGTA'),\n",
    "    list('ATGATGACAGGGCTTGTAACT'),\n",
    "    list('TTCATGACCGGCTTATACTTA')\n",
    "])\n",
    "\n",
    "# one hot encode the data\n",
    "X = np.array([[1 if x == y else 0 for x in 'ACGT'] for y in X.flatten()]).reshape(X.shape[0], -1)\n",
    "# setting distance_threshold=0 ensures we compute the full tree.\n",
    "model = AgglomerativeClustering(distance_threshold=0, n_clusters=None)\n",
    "\n",
    "model = model.fit(X)\n",
    "plt.title(\"Hierarchical Clustering Dendrogram\")\n",
    "# plot the top three levels of the dendrogram\n",
    "children = model.children_\n",
    "distances = model.distances_\n",
    "n_samples = len(model.labels_)\n",
    "linkage_mat = get_linkage_matrix(children, distances, n_samples)\n",
    "plt.xlabel(\"Number of points in node (or index of point if no parenthesis).\")\n",
    "plt.show()"
   ]
  },
  {
   "cell_type": "code",
   "execution_count": null,
   "metadata": {},
   "outputs": [],
   "source": []
  }
 ],
 "metadata": {
  "kernelspec": {
   "display_name": "Python 3",
   "language": "python",
   "name": "python3"
  },
  "language_info": {
   "codemirror_mode": {
    "name": "ipython",
    "version": 3
   },
   "file_extension": ".py",
   "mimetype": "text/x-python",
   "name": "python",
   "nbconvert_exporter": "python",
   "pygments_lexer": "ipython3",
   "version": "3.10.8"
  },
  "vscode": {
   "interpreter": {
    "hash": "76d7c06053c3456e5600312cec90888656fc0ed30c03d8425b9dac6e4fc8e014"
   }
  }
 },
 "nbformat": 4,
 "nbformat_minor": 4
}
