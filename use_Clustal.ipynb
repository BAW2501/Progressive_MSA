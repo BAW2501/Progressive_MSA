{
 "cells": [
  {
   "cell_type": "code",
   "execution_count": 1,
   "metadata": {},
   "outputs": [
    {
     "name": "stdout",
     "output_type": "stream",
     "text": [
      "Get:1 http://security.ubuntu.com/ubuntu focal-security InRelease [114 kB]\n",
      "Get:2 https://packages.microsoft.com/repos/microsoft-ubuntu-focal-prod focal InRelease [3065 B]\n",
      "Get:3 https://dl.yarnpkg.com/debian stable InRelease [17.1 kB]                 \n",
      "Get:4 http://archive.ubuntu.com/ubuntu focal InRelease [265 kB]                \n",
      "Get:5 https://repo.anaconda.com/pkgs/misc/debrepo/conda stable InRelease [3171 B]\n",
      "Get:6 http://security.ubuntu.com/ubuntu focal-security/universe amd64 Packages [993 kB]\n",
      "Get:7 http://security.ubuntu.com/ubuntu focal-security/multiverse amd64 Packages [28.5 kB]\n",
      "Get:8 http://security.ubuntu.com/ubuntu focal-security/main amd64 Packages [2476 kB]\n",
      "Get:9 http://security.ubuntu.com/ubuntu focal-security/restricted amd64 Packages [1920 kB]\n",
      "Get:10 https://packages.microsoft.com/repos/microsoft-ubuntu-focal-prod focal/main all Packages [2176 B]\n",
      "Get:11 https://packages.microsoft.com/repos/microsoft-ubuntu-focal-prod focal/main amd64 Packages [171 kB]\n",
      "Get:12 https://dl.yarnpkg.com/debian stable/main all Packages [11.1 kB]        \n",
      "Get:13 https://dl.yarnpkg.com/debian stable/main amd64 Packages [11.1 kB]      \n",
      "Get:14 https://repo.anaconda.com/pkgs/misc/debrepo/conda stable/main amd64 Packages [1970 B]\n",
      "Get:15 http://archive.ubuntu.com/ubuntu focal-updates InRelease [114 kB]       \n",
      "Get:17 http://archive.ubuntu.com/ubuntu focal-backports InRelease [108 kB]     \n",
      "Get:18 http://archive.ubuntu.com/ubuntu focal/main amd64 Packages [1275 kB]\n",
      "Get:19 http://archive.ubuntu.com/ubuntu focal/restricted amd64 Packages [33.4 kB]\n",
      "Get:20 http://archive.ubuntu.com/ubuntu focal/universe amd64 Packages [11.3 MB]\n",
      "Get:16 https://packagecloud.io/github/git-lfs/ubuntu focal InRelease [24.4 kB] \n",
      "Get:21 http://archive.ubuntu.com/ubuntu focal/multiverse amd64 Packages [177 kB]\n",
      "Get:22 http://archive.ubuntu.com/ubuntu focal-updates/universe amd64 Packages [1295 kB]\n",
      "Get:23 http://archive.ubuntu.com/ubuntu focal-updates/multiverse amd64 Packages [31.2 kB]\n",
      "Get:24 http://archive.ubuntu.com/ubuntu focal-updates/main amd64 Packages [2950 kB]\n",
      "Get:25 http://archive.ubuntu.com/ubuntu focal-updates/restricted amd64 Packages [2047 kB]\n",
      "Get:26 http://archive.ubuntu.com/ubuntu focal-backports/main amd64 Packages [55.2 kB]\n",
      "Get:27 http://archive.ubuntu.com/ubuntu focal-backports/universe amd64 Packages [28.6 kB]\n",
      "Get:28 https://packagecloud.io/github/git-lfs/ubuntu focal/main amd64 Packages [3134 B]\n",
      "Fetched 25.5 MB in 3s (9262 kB/s)    \n",
      "Reading package lists... Done\n"
     ]
    }
   ],
   "source": [
    "!sudo apt-get update"
   ]
  },
  {
   "cell_type": "code",
   "execution_count": 2,
   "metadata": {},
   "outputs": [
    {
     "name": "stdout",
     "output_type": "stream",
     "text": [
      "Reading package lists... Done\n",
      "Building dependency tree       \n",
      "Reading state information... Done\n",
      "The following packages were automatically installed and are no longer required:\n",
      "  aspnetcore-runtime-6.0 aspnetcore-targeting-pack-6.0 dotnet-apphost-pack-6.0\n",
      "  dotnet-host dotnet-hostfxr-6.0 dotnet-runtime-6.0 dotnet-runtime-deps-6.0\n",
      "  dotnet-targeting-pack-6.0 netstandard-targeting-pack-2.1\n",
      "Use 'sudo apt autoremove' to remove them.\n",
      "Suggested packages:\n",
      "  clustalx seaview\n",
      "The following NEW packages will be installed:\n",
      "  clustalw\n",
      "0 upgraded, 1 newly installed, 0 to remove and 30 not upgraded.\n",
      "Need to get 279 kB of archives.\n",
      "After this operation, 818 kB of additional disk space will be used.\n",
      "Get:1 http://archive.ubuntu.com/ubuntu focal/universe amd64 clustalw amd64 2.1+lgpl-6build1 [279 kB]\n",
      "Fetched 279 kB in 0s (14.5 MB/s) \n",
      "Selecting previously unselected package clustalw.\n",
      "(Reading database ... 68614 files and directories currently installed.)\n",
      "Preparing to unpack .../clustalw_2.1+lgpl-6build1_amd64.deb ...\n",
      "Unpacking clustalw (2.1+lgpl-6build1) ...\n",
      "Setting up clustalw (2.1+lgpl-6build1) ...\n",
      "Processing triggers for man-db (2.9.1-1) ...\n"
     ]
    }
   ],
   "source": [
    "!sudo apt-get -y install clustalw"
   ]
  },
  {
   "cell_type": "code",
   "execution_count": 4,
   "metadata": {},
   "outputs": [
    {
     "name": "stdout",
     "output_type": "stream",
     "text": [
      "\n",
      "\n",
      "\n",
      " CLUSTAL 2.1 Multiple Sequence Alignments\n",
      "\n",
      "\n",
      "                DATA (sequences)\n",
      "\n",
      "-INFILE=file.ext                             :input sequences.\n",
      "-PROFILE1=file.ext  and  -PROFILE2=file.ext  :profiles (old alignment).\n",
      "\n",
      "\n",
      "                VERBS (do things)\n",
      "\n",
      "-OPTIONS            :list the command line parameters\n",
      "-HELP  or -CHECK    :outline the command line params.\n",
      "-FULLHELP           :output full help content.\n",
      "-ALIGN              :do full multiple alignment.\n",
      "-TREE               :calculate NJ tree.\n",
      "-PIM                :output percent identity matrix (while calculating the tree)\n",
      "-BOOTSTRAP(=n)      :bootstrap a NJ tree (n= number of bootstraps; def. = 1000).\n",
      "-CONVERT            :output the input sequences in a different file format.\n",
      "\n",
      "\n",
      "                PARAMETERS (set things)\n",
      "\n",
      "***General settings:****\n",
      "-INTERACTIVE :read command line, then enter normal interactive menus\n",
      "-QUICKTREE   :use FAST algorithm for the alignment guide tree\n",
      "-TYPE=       :PROTEIN or DNA sequences\n",
      "-NEGATIVE    :protein alignment with negative values in matrix\n",
      "-OUTFILE=    :sequence alignment file name\n",
      "-OUTPUT=     :CLUSTAL(default), GCG, GDE, PHYLIP, PIR, NEXUS and FASTA\n",
      "-OUTORDER=   :INPUT or ALIGNED\n",
      "-CASE        :LOWER or UPPER (for GDE output only)\n",
      "-SEQNOS=     :OFF or ON (for Clustal output only)\n",
      "-SEQNO_RANGE=:OFF or ON (NEW: for all output formats)\n",
      "-RANGE=m,n   :sequence range to write starting m to m+n\n",
      "-MAXSEQLEN=n :maximum allowed input sequence length\n",
      "-QUIET       :Reduce console output to minimum\n",
      "-STATS=      :Log some alignents statistics to file\n",
      "\n",
      "***Fast Pairwise Alignments:***\n",
      "-KTUPLE=n    :word size\n",
      "-TOPDIAGS=n  :number of best diags.\n",
      "-WINDOW=n    :window around best diags.\n",
      "-PAIRGAP=n   :gap penalty\n",
      "-SCORE       :PERCENT or ABSOLUTE\n",
      "\n",
      "\n",
      "***Slow Pairwise Alignments:***\n",
      "-PWMATRIX=    :Protein weight matrix=BLOSUM, PAM, GONNET, ID or filename\n",
      "-PWDNAMATRIX= :DNA weight matrix=IUB, CLUSTALW or filename\n",
      "-PWGAPOPEN=f  :gap opening penalty        \n",
      "-PWGAPEXT=f   :gap opening penalty\n",
      "\n",
      "\n",
      "***Multiple Alignments:***\n",
      "-NEWTREE=      :file for new guide tree\n",
      "-USETREE=      :file for old guide tree\n",
      "-MATRIX=       :Protein weight matrix=BLOSUM, PAM, GONNET, ID or filename\n",
      "-DNAMATRIX=    :DNA weight matrix=IUB, CLUSTALW or filename\n",
      "-GAPOPEN=f     :gap opening penalty        \n",
      "-GAPEXT=f      :gap extension penalty\n",
      "-ENDGAPS       :no end gap separation pen. \n",
      "-GAPDIST=n     :gap separation pen. range\n",
      "-NOPGAP        :residue-specific gaps off  \n",
      "-NOHGAP        :hydrophilic gaps off\n",
      "-HGAPRESIDUES= :list hydrophilic res.    \n",
      "-MAXDIV=n      :% ident. for delay\n",
      "-TYPE=         :PROTEIN or DNA\n",
      "-TRANSWEIGHT=f :transitions weighting\n",
      "-ITERATION=    :NONE or TREE or ALIGNMENT\n",
      "-NUMITER=n     :maximum number of iterations to perform\n",
      "-NOWEIGHTS     :disable sequence weighting\n",
      "\n",
      "\n",
      "***Profile Alignments:***\n",
      "-PROFILE      :Merge two alignments by profile alignment\n",
      "-NEWTREE1=    :file for new guide tree for profile1\n",
      "-NEWTREE2=    :file for new guide tree for profile2\n",
      "-USETREE1=    :file for old guide tree for profile1\n",
      "-USETREE2=    :file for old guide tree for profile2\n",
      "\n",
      "\n",
      "***Sequence to Profile Alignments:***\n",
      "-SEQUENCES   :Sequentially add profile2 sequences to profile1 alignment\n",
      "-NEWTREE=    :file for new guide tree\n",
      "-USETREE=    :file for old guide tree\n",
      "\n",
      "\n",
      "***Structure Alignments:***\n",
      "-NOSECSTR1     :do not use secondary structure-gap penalty mask for profile 1 \n",
      "-NOSECSTR2     :do not use secondary structure-gap penalty mask for profile 2\n",
      "-SECSTROUT=STRUCTURE or MASK or BOTH or NONE   :output in alignment file\n",
      "-HELIXGAP=n    :gap penalty for helix core residues \n",
      "-STRANDGAP=n   :gap penalty for strand core residues\n",
      "-LOOPGAP=n     :gap penalty for loop regions\n",
      "-TERMINALGAP=n :gap penalty for structure termini\n",
      "-HELIXENDIN=n  :number of residues inside helix to be treated as terminal\n",
      "-HELIXENDOUT=n :number of residues outside helix to be treated as terminal\n",
      "-STRANDENDIN=n :number of residues inside strand to be treated as terminal\n",
      "-STRANDENDOUT=n:number of residues outside strand to be treated as terminal \n",
      "\n",
      "\n",
      "***Trees:***\n",
      "-OUTPUTTREE=nj OR phylip OR dist OR nexus\n",
      "-SEED=n        :seed number for bootstraps.\n",
      "-KIMURA        :use Kimura's correction.   \n",
      "-TOSSGAPS      :ignore positions with gaps.\n",
      "-BOOTLABELS=node OR branch :position of bootstrap values in tree display\n",
      "-CLUSTERING=   :NJ or UPGMA\n"
     ]
    }
   ],
   "source": [
    "!clustalw -HELP"
   ]
  },
  {
   "cell_type": "code",
   "execution_count": 1,
   "metadata": {},
   "outputs": [
    {
     "name": "stdout",
     "output_type": "stream",
     "text": [
      "Requirement already satisfied: biopython in /usr/local/python/3.10.4/lib/python3.10/site-packages (1.80)\n",
      "Requirement already satisfied: numpy in /home/codespace/.local/lib/python3.10/site-packages (from biopython) (1.24.1)\n"
     ]
    }
   ],
   "source": [
    "!pip install biopython"
   ]
  },
  {
   "cell_type": "code",
   "execution_count": 3,
   "metadata": {},
   "outputs": [],
   "source": [
    "from Bio.Align.Applications import ClustalwCommandline\n",
    "from Bio import SeqIO\n",
    "from pathlib import Path"
   ]
  },
  {
   "cell_type": "code",
   "execution_count": 7,
   "metadata": {},
   "outputs": [
    {
     "name": "stdout",
     "output_type": "stream",
     "text": [
      "Oxbench_Sample/12s112.fa\n",
      "Oxbench_Sample/12s117.fa\n",
      "Oxbench_Sample/12.fa\n",
      "Oxbench_Sample/12t113.fa\n",
      "Oxbench_Sample/12t119.fa\n",
      "Oxbench_Sample/12t116.fa\n",
      "Oxbench_Sample/22t53.fa\n",
      "Oxbench_Sample/12t117.fa\n",
      "Oxbench_Sample/22t56.fa\n",
      "Oxbench_Sample/22.fa\n"
     ]
    }
   ],
   "source": [
    "fasta_files = Path(\"./Oxbench_Sample\").glob(\"*.fa\")\n",
    "for fasta_file in fasta_files:\n",
    "    "
   ]
  },
  {
   "cell_type": "code",
   "execution_count": null,
   "metadata": {},
   "outputs": [],
   "source": []
  }
 ],
 "metadata": {
  "kernelspec": {
   "display_name": "Python 3",
   "language": "python",
   "name": "python3"
  },
  "language_info": {
   "codemirror_mode": {
    "name": "ipython",
    "version": 3
   },
   "file_extension": ".py",
   "mimetype": "text/x-python",
   "name": "python",
   "nbconvert_exporter": "python",
   "pygments_lexer": "ipython3",
   "version": "3.10.4"
  },
  "orig_nbformat": 4,
  "vscode": {
   "interpreter": {
    "hash": "3ad933181bd8a04b432d3370b9dc3b0662ad032c4dfaa4e4f1596c548f763858"
   }
  }
 },
 "nbformat": 4,
 "nbformat_minor": 2
}
