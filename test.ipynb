{
 "cells": [
  {
   "cell_type": "code",
   "execution_count": 15,
   "metadata": {},
   "outputs": [],
   "source": [
    "from functools import partial\n",
    "import scipy as sp\n",
    "import numpy as np\n",
    "from skbio import DNA ,TabularMSA ,TreeNode ,DistanceMatrix ,Sequence,Protein\n",
    "from skbio.alignment import global_pairwise_align\n",
    "\n",
    "\n",
    "\n",
    "def kmer_distance(sequence1, sequence2, k=7, overlap=False):\n",
    "    sequence1_kmers = set(map(str, sequence1.iter_kmers(k, overlap)))\n",
    "    sequence2_kmers = set(map(str, sequence2.iter_kmers(k, overlap)))\n",
    "    all_kmers = sequence1_kmers | sequence2_kmers\n",
    "    shared_kmers = sequence1_kmers & sequence2_kmers\n",
    "    number_unique = len(all_kmers) - len(shared_kmers)\n",
    "    fraction_unique = number_unique / len(all_kmers)\n",
    "    return fraction_unique\n",
    "\n",
    "def hamming_distance(sequence1, sequence2):\n",
    "    n,m = len(sequence1),len(sequence2)\n",
    "    return sum(sequence1[i] != sequence2[i] for i in range(min(n,m))) + abs(n-m)\n",
    "\n",
    "def minimum_edit_distance(sequence1,sequence2):\n",
    "     # dynamic programming\n",
    "    n,m = len(sequence1),len(sequence2)\n",
    "    dp = np.zeros((n+1,m+1))\n",
    "    for i in range(n+1):\n",
    "        dp[i][0] = i\n",
    "    for j in range(m+1):\n",
    "        dp[0][j] = j\n",
    "    for i in range(1,n+1):\n",
    "        for j in range(1,m+1):\n",
    "            dp[i][j] = min(dp[i-1][j]+1,dp[i][j-1]+1,dp[i-1][j-1]+(sequence1[i-1] != sequence2[j-1]))\n",
    "    return dp[n][m]\n",
    "\n",
    "def alignement_score_distance(sequence1,sequence2):\n",
    "    if sequence1 == sequence2:\n",
    "        return 0\n",
    "    _,score, _ = global_pairwise_align_nucleotide(sequence1, sequence2)\n",
    "    return score\n",
    "\n",
    "\n",
    "def guide_tree_from_sequences(sequences, metric=hamming_distance):\n",
    "        guide_dm = DistanceMatrix.from_iterable(sequences, metric=metric, key='id')\n",
    "        print(guide_dm)\n",
    "        guide_lm = sp.cluster.hierarchy.average(guide_dm.condensed_form())\n",
    "        guide_tree = TreeNode.from_linkage_matrix(guide_lm, guide_dm.ids)\n",
    "        return guide_tree\n",
    "def progressive_msa(sequences, pairwise_aligner, guide_tree=None,metric=kmer_distance):\n",
    "\n",
    "    if guide_tree is None:\n",
    "        guide_dm = DistanceMatrix.from_iterable(sequences, metric=metric, key='id')\n",
    "        guide_lm = sp.cluster.hierarchy.average(guide_dm.condensed_form())\n",
    "        guide_tree = TreeNode.from_linkage_matrix(guide_lm, guide_dm.ids)\n",
    "\n",
    "    seq_lookup = {s.metadata['id']: s for i, s in enumerate(sequences)}\n",
    "    c1, c2 = guide_tree.children\n",
    "    c1_aln = seq_lookup[c1.name] if c1.is_tip() else progressive_msa(sequences, pairwise_aligner, c1)\n",
    "    c2_aln = seq_lookup[c2.name] if c2.is_tip() else progressive_msa(sequences, pairwise_aligner, c2)\n",
    "\n",
    "    alignment, _, _ = pairwise_aligner(c1_aln, c2_aln)\n",
    "\n",
    "    return alignment\n"
   ]
  },
  {
   "cell_type": "code",
   "execution_count": 2,
   "metadata": {},
   "outputs": [
    {
     "name": "stdout",
     "output_type": "stream",
     "text": [
      "4x4 distance matrix\n",
      "IDs:\n",
      "'seq1', 'seq2', 'seq3', 'seq4'\n",
      "Data:\n",
      "[[0. 1. 1. 1.]\n",
      " [1. 0. 1. 1.]\n",
      " [1. 1. 0. 1.]\n",
      " [1. 1. 1. 0.]]\n",
      "4x4 distance matrix\n",
      "IDs:\n",
      "'seq1', 'seq2', 'seq3', 'seq4'\n",
      "Data:\n",
      "[[ 0. 25. 25. 25.]\n",
      " [25.  0. 22. 22.]\n",
      " [25. 22.  0. 22.]\n",
      " [25. 22. 22.  0.]]\n",
      "4x4 distance matrix\n",
      "IDs:\n",
      "'seq1', 'seq2', 'seq3', 'seq4'\n",
      "Data:\n",
      "[[ 0. 25. 25. 25.]\n",
      " [25.  0. 22. 22.]\n",
      " [25. 22.  0. 22.]\n",
      " [25. 22. 22.  0.]]\n"
     ]
    },
    {
     "name": "stderr",
     "output_type": "stream",
     "text": [
      "/home/codespace/.python/current/lib/python3.10/site-packages/skbio/alignment/_pairwise.py:595: EfficiencyWarning: You're using skbio's python implementation of Needleman-Wunsch alignment. This is known to be very slow (e.g., thousands of times slower than a native C implementation). We'll be adding a faster version soon (see https://github.com/biocore/scikit-bio/issues/254 to track progress on this).\n",
      "  warn(\"You're using skbio's python implementation of Needleman-Wunsch \"\n"
     ]
    },
    {
     "name": "stdout",
     "output_type": "stream",
     "text": [
      "4x4 distance matrix\n",
      "IDs:\n",
      "'seq1', 'seq2', 'seq3', 'seq4'\n",
      "Data:\n",
      "[[0. 2. 1. 0.]\n",
      " [2. 0. 2. 2.]\n",
      " [1. 2. 0. 1.]\n",
      " [0. 2. 1. 0.]]\n"
     ]
    }
   ],
   "source": [
    "query_of_sequences = [DNA(\"ACGCGATGACCGGGCCTTGTAAAAT\", metadata={'id': 'seq1'}),\n",
    "                        DNA(\"ATGATGACAGGGCTTGTAACT\", metadata={'id': 'seq2'}),\n",
    "                        DNA(\"TTCATGACCGGCTTATACTTAT\", metadata={'id': 'seq3'}),\n",
    "                        DNA(\"ACCCTACCTGTCGTATTGTAAT\", metadata={'id': 'seq4'}),\n",
    "                      ]\n",
    "guide_tree = guide_tree_from_sequences(query_of_sequences,metric=kmer_distance)\n",
    "guide_tree = guide_tree_from_sequences(query_of_sequences,metric=hamming_distance)\n",
    "guide_tree = guide_tree_from_sequences(query_of_sequences,metric=minimum_edit_distance)\n",
    "guide_tree = guide_tree_from_sequences(query_of_sequences,metric=alignement_score_distance)"
   ]
  },
  {
   "cell_type": "code",
   "execution_count": 3,
   "metadata": {},
   "outputs": [
    {
     "name": "stdout",
     "output_type": "stream",
     "text": [
      "TabularMSA[DNA]\n",
      "----------------------------\n",
      "Stats:\n",
      "    sequence count: 4\n",
      "    position count: 28\n",
      "----------------------------\n",
      "AT--GATGACAGGGC---TTGTAACT--\n",
      "-TTC-ATGACC-GGC---TTATACTTAT\n",
      "ACGCGATGACCGGGC--CTTGTAAA-AT\n",
      "ACCC--T-ACCTGTCGTATTGTAA---T\n"
     ]
    }
   ],
   "source": [
    "aligner = partial(global_pairwise_align_nucleotide,match_score = 6,mismatch_score = -2, gap_open_penalty=4, gap_extend_penalty=1)\n",
    "MSA = progressive_msa(query_of_sequences, pairwise_aligner=aligner,guide_tree=guide_tree)\n",
    "print(MSA)"
   ]
  },
  {
   "cell_type": "code",
   "execution_count": 16,
   "metadata": {},
   "outputs": [
    {
     "name": "stderr",
     "output_type": "stream",
     "text": [
      "  0%|          | 0/10 [00:00<?, ?it/s]\n"
     ]
    },
    {
     "ename": "TypeError",
     "evalue": "`seq1` and `seq2` must be DNA, RNA, or TabularMSA, not type 'Protein'",
     "output_type": "error",
     "traceback": [
      "\u001b[0;31m---------------------------------------------------------------------------\u001b[0m",
      "\u001b[0;31mTypeError\u001b[0m                                 Traceback (most recent call last)",
      "Cell \u001b[0;32mIn[16], line 13\u001b[0m\n\u001b[1;32m     11\u001b[0m \u001b[39mfor\u001b[39;00m seq \u001b[39min\u001b[39;00m skbio\u001b[39m.\u001b[39mio\u001b[39m.\u001b[39mread(\u001b[39mstr\u001b[39m(fasta_file), \u001b[39mformat\u001b[39m\u001b[39m=\u001b[39m\u001b[39m\"\u001b[39m\u001b[39mfasta\u001b[39m\u001b[39m\"\u001b[39m):\n\u001b[1;32m     12\u001b[0m     sequences\u001b[39m.\u001b[39mappend(Protein(seq))\n\u001b[0;32m---> 13\u001b[0m guide_tree \u001b[39m=\u001b[39m guide_tree_from_sequences(sequences,metric\u001b[39m=\u001b[39;49malignement_score_distance)\n\u001b[1;32m     14\u001b[0m aligner \u001b[39m=\u001b[39m partial(global_pairwise_align,match_score \u001b[39m=\u001b[39m \u001b[39m6\u001b[39m,mismatch_score \u001b[39m=\u001b[39m \u001b[39m-\u001b[39m\u001b[39m2\u001b[39m, gap_open_penalty\u001b[39m=\u001b[39m\u001b[39m4\u001b[39m, gap_extend_penalty\u001b[39m=\u001b[39m\u001b[39m1\u001b[39m)\n\u001b[1;32m     15\u001b[0m MSA \u001b[39m=\u001b[39m progressive_msa(sequences, pairwise_aligner\u001b[39m=\u001b[39maligner,guide_tree\u001b[39m=\u001b[39mguide_tree)\n",
      "Cell \u001b[0;32mIn[15], line 43\u001b[0m, in \u001b[0;36mguide_tree_from_sequences\u001b[0;34m(sequences, metric)\u001b[0m\n\u001b[1;32m     42\u001b[0m \u001b[39mdef\u001b[39;00m \u001b[39mguide_tree_from_sequences\u001b[39m(sequences, metric\u001b[39m=\u001b[39mhamming_distance):\n\u001b[0;32m---> 43\u001b[0m         guide_dm \u001b[39m=\u001b[39m DistanceMatrix\u001b[39m.\u001b[39;49mfrom_iterable(sequences, metric\u001b[39m=\u001b[39;49mmetric, key\u001b[39m=\u001b[39;49m\u001b[39m'\u001b[39;49m\u001b[39mid\u001b[39;49m\u001b[39m'\u001b[39;49m)\n\u001b[1;32m     44\u001b[0m         \u001b[39mprint\u001b[39m(guide_dm)\n\u001b[1;32m     45\u001b[0m         guide_lm \u001b[39m=\u001b[39m sp\u001b[39m.\u001b[39mcluster\u001b[39m.\u001b[39mhierarchy\u001b[39m.\u001b[39maverage(guide_dm\u001b[39m.\u001b[39mcondensed_form())\n",
      "File \u001b[0;32m~/.python/current/lib/python3.10/site-packages/skbio/stats/distance/_base.py:1071\u001b[0m, in \u001b[0;36mDistanceMatrix.from_iterable\u001b[0;34m(cls, iterable, metric, key, keys, validate)\u001b[0m\n\u001b[1;32m   1032\u001b[0m \u001b[39m\u001b[39m\u001b[39m\"\"\"Create DistanceMatrix from all pairs in an iterable given a metric.\u001b[39;00m\n\u001b[1;32m   1033\u001b[0m \n\u001b[1;32m   1034\u001b[0m \u001b[39mParameters\u001b[39;00m\n\u001b[0;32m   (...)\u001b[0m\n\u001b[1;32m   1068\u001b[0m \n\u001b[1;32m   1069\u001b[0m \u001b[39m\"\"\"\u001b[39;00m\n\u001b[1;32m   1070\u001b[0m \u001b[39mif\u001b[39;00m validate:\n\u001b[0;32m-> 1071\u001b[0m     \u001b[39mreturn\u001b[39;00m \u001b[39msuper\u001b[39;49m(DistanceMatrix, \u001b[39mcls\u001b[39;49m)\u001b[39m.\u001b[39;49mfrom_iterable(iterable, metric,\n\u001b[1;32m   1072\u001b[0m                                                     key, keys)\n\u001b[1;32m   1074\u001b[0m iterable \u001b[39m=\u001b[39m \u001b[39mlist\u001b[39m(iterable)\n\u001b[1;32m   1075\u001b[0m \u001b[39mif\u001b[39;00m key \u001b[39mis\u001b[39;00m \u001b[39mnot\u001b[39;00m \u001b[39mNone\u001b[39;00m \u001b[39mand\u001b[39;00m keys \u001b[39mis\u001b[39;00m \u001b[39mnot\u001b[39;00m \u001b[39mNone\u001b[39;00m:\n",
      "File \u001b[0;32m~/.python/current/lib/python3.10/site-packages/skbio/stats/distance/_base.py:213\u001b[0m, in \u001b[0;36mDissimilarityMatrix.from_iterable\u001b[0;34m(cls, iterable, metric, key, keys)\u001b[0m\n\u001b[1;32m    211\u001b[0m \u001b[39mfor\u001b[39;00m i, a \u001b[39min\u001b[39;00m \u001b[39menumerate\u001b[39m(iterable):\n\u001b[1;32m    212\u001b[0m     \u001b[39mfor\u001b[39;00m j, b \u001b[39min\u001b[39;00m \u001b[39menumerate\u001b[39m(iterable):\n\u001b[0;32m--> 213\u001b[0m         dm[i, j] \u001b[39m=\u001b[39m metric(a, b)\n\u001b[1;32m    215\u001b[0m \u001b[39mreturn\u001b[39;00m \u001b[39mcls\u001b[39m(dm, keys_)\n",
      "Cell \u001b[0;32mIn[15], line 38\u001b[0m, in \u001b[0;36malignement_score_distance\u001b[0;34m(sequence1, sequence2)\u001b[0m\n\u001b[1;32m     36\u001b[0m \u001b[39mif\u001b[39;00m sequence1 \u001b[39m==\u001b[39m sequence2:\n\u001b[1;32m     37\u001b[0m     \u001b[39mreturn\u001b[39;00m \u001b[39m0\u001b[39m\n\u001b[0;32m---> 38\u001b[0m _,score, _ \u001b[39m=\u001b[39m global_pairwise_align_nucleotide(sequence1, sequence2)\n\u001b[1;32m     39\u001b[0m \u001b[39mreturn\u001b[39;00m score\n",
      "File \u001b[0;32m~/.python/current/lib/python3.10/site-packages/skbio/alignment/_pairwise.py:428\u001b[0m, in \u001b[0;36mglobal_pairwise_align_nucleotide\u001b[0;34m(seq1, seq2, gap_open_penalty, gap_extend_penalty, match_score, mismatch_score, substitution_matrix, penalize_terminal_gaps)\u001b[0m\n\u001b[1;32m    426\u001b[0m \u001b[39mfor\u001b[39;00m seq \u001b[39min\u001b[39;00m seq1, seq2:\n\u001b[1;32m    427\u001b[0m     \u001b[39mif\u001b[39;00m \u001b[39mnot\u001b[39;00m \u001b[39misinstance\u001b[39m(seq, (DNA, RNA, TabularMSA)):\n\u001b[0;32m--> 428\u001b[0m         \u001b[39mraise\u001b[39;00m \u001b[39mTypeError\u001b[39;00m(\n\u001b[1;32m    429\u001b[0m             \u001b[39m\"\u001b[39m\u001b[39m`seq1` and `seq2` must be DNA, RNA, or TabularMSA, not type \u001b[39m\u001b[39m\"\u001b[39m\n\u001b[1;32m    430\u001b[0m             \u001b[39m\"\u001b[39m\u001b[39m%r\u001b[39;00m\u001b[39m\"\u001b[39m \u001b[39m%\u001b[39m \u001b[39mtype\u001b[39m(seq)\u001b[39m.\u001b[39m\u001b[39m__name__\u001b[39m)\n\u001b[1;32m    431\u001b[0m     \u001b[39mif\u001b[39;00m \u001b[39misinstance\u001b[39m(seq, TabularMSA) \u001b[39mand\u001b[39;00m \u001b[39mnot\u001b[39;00m \u001b[39missubclass\u001b[39m(seq\u001b[39m.\u001b[39mdtype,\n\u001b[1;32m    432\u001b[0m                                                       (DNA, RNA)):\n\u001b[1;32m    433\u001b[0m         \u001b[39mraise\u001b[39;00m \u001b[39mTypeError\u001b[39;00m(\n\u001b[1;32m    434\u001b[0m             \u001b[39m\"\u001b[39m\u001b[39m`seq1` and `seq2` must be TabularMSA with DNA or RNA dtype, \u001b[39m\u001b[39m\"\u001b[39m\n\u001b[1;32m    435\u001b[0m             \u001b[39m\"\u001b[39m\u001b[39mnot dtype \u001b[39m\u001b[39m%r\u001b[39;00m\u001b[39m\"\u001b[39m \u001b[39m%\u001b[39m seq\u001b[39m.\u001b[39mdtype\u001b[39m.\u001b[39m\u001b[39m__name__\u001b[39m)\n",
      "\u001b[0;31mTypeError\u001b[0m: `seq1` and `seq2` must be DNA, RNA, or TabularMSA, not type 'Protein'"
     ]
    }
   ],
   "source": [
    "from pathlib import Path\n",
    "import skbio.io\n",
    "from tqdm import tqdm\n",
    "fasta_files = list(Path(\"./Oxbench_input\").glob(\"*.fa\"))\n",
    "\n",
    "\n",
    "# read all fasta files in the directory and align them using progressive_align.py then save the alignment in Oxbench_output_naive_approach\n",
    "# make it output the alignment in fasta format\n",
    "for fasta_file in tqdm(fasta_files):\n",
    "    sequences = []\n",
    "    for seq in skbio.io.read(str(fasta_file), format=\"fasta\"):\n",
    "        sequences.append(Protein(seq))\n",
    "    guide_tree = guide_tree_from_sequences(sequences,metric=alignement_score_distance)\n",
    "    aligner = partial(global_pairwise_align,match_score = 6,mismatch_score = -2, gap_open_penalty=4, gap_extend_penalty=1)\n",
    "    MSA = progressive_msa(sequences, pairwise_aligner=aligner,guide_tree=guide_tree)\n",
    "    skbio.io.write(MSA, str(fasta_file).replace(\"Oxbench_input\",\"Oxbench_output_naive_approach\"), format=\"fasta\")\n",
    "        "
   ]
  },
  {
   "cell_type": "code",
   "execution_count": null,
   "metadata": {},
   "outputs": [],
   "source": []
  }
 ],
 "metadata": {
  "kernelspec": {
   "display_name": "Python 3",
   "language": "python",
   "name": "python3"
  },
  "language_info": {
   "codemirror_mode": {
    "name": "ipython",
    "version": 3
   },
   "file_extension": ".py",
   "mimetype": "text/x-python",
   "name": "python",
   "nbconvert_exporter": "python",
   "pygments_lexer": "ipython3",
   "version": "3.10.4"
  },
  "orig_nbformat": 4,
  "vscode": {
   "interpreter": {
    "hash": "3ad933181bd8a04b432d3370b9dc3b0662ad032c4dfaa4e4f1596c548f763858"
   }
  }
 },
 "nbformat": 4,
 "nbformat_minor": 2
}
