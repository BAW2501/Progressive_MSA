{
 "cells": [
  {
   "cell_type": "code",
   "execution_count": 15,
   "metadata": {},
   "outputs": [],
   "source": [
    "from functools import partial\n",
    "import scipy as sp\n",
    "import numpy as np\n",
    "from skbio import DNA ,TabularMSA ,TreeNode ,DistanceMatrix ,Sequence\n",
    "from skbio.alignment import global_pairwise_align_nucleotide\n",
    "\n",
    "\n",
    "def kmer_distance(sequence1, sequence2, k=7, overlap=False):\n",
    "    sequence1_kmers = set(map(str, sequence1.iter_kmers(k, overlap)))\n",
    "    sequence2_kmers = set(map(str, sequence2.iter_kmers(k, overlap)))\n",
    "    all_kmers = sequence1_kmers | sequence2_kmers\n",
    "    shared_kmers = sequence1_kmers & sequence2_kmers\n",
    "    number_unique = len(all_kmers) - len(shared_kmers)\n",
    "    fraction_unique = number_unique / len(all_kmers)\n",
    "    return fraction_unique\n",
    "\n",
    "def hamming_distance(sequence1, sequence2):\n",
    "    n,m = len(sequence1),len(sequence2)\n",
    "    return sum(sequence1[i] != sequence2[i] for i in range(min(n,m))) + abs(n-m)\n",
    "\n",
    "def edit_distance(sequence1,sequence2):\n",
    "     # dynamic programming\n",
    "    n,m = len(sequence1),len(sequence2)\n",
    "    dp = np.zeros((n+1,m+1))\n",
    "    for i in range(n+1):\n",
    "        dp[i][0] = i\n",
    "    for j in range(m+1):\n",
    "        dp[0][j] = j\n",
    "    for i in range(1,n+1):\n",
    "        for j in range(1,m+1):\n",
    "            dp[i][j] = min(dp[i-1][j]+1,dp[i][j-1]+1,dp[i-1][j-1]+(sequence1[i-1] != sequence2[j-1]))\n",
    "    return dp[n][m]\n",
    "\n",
    "\n",
    "def guide_tree_from_sequences(sequences, metric=kmer_distance):\n",
    "        guide_dm = DistanceMatrix.from_iterable(sequences, metric=metric, key='id')\n",
    "        print(guide_dm)\n",
    "        guide_lm = sp.cluster.hierarchy.average(guide_dm.condensed_form())\n",
    "        guide_tree = TreeNode.from_linkage_matrix(guide_lm, guide_dm.ids)\n",
    "        return guide_tree\n",
    "def progressive_msa(sequences, pairwise_aligner, guide_tree=None,metric=kmer_distance):\n",
    "\n",
    "    if guide_tree is None:\n",
    "        guide_dm = DistanceMatrix.from_iterable(sequences, metric=metric, key='id')\n",
    "        guide_lm = sp.cluster.hierarchy.average(guide_dm.condensed_form())\n",
    "        guide_tree = TreeNode.from_linkage_matrix(guide_lm, guide_dm.ids)\n",
    "\n",
    "    seq_lookup = {s.metadata['id']: s for i, s in enumerate(sequences)}\n",
    "    c1, c2 = guide_tree.children\n",
    "    c1_aln = seq_lookup[c1.name] if c1.is_tip() else progressive_msa(sequences, pairwise_aligner, c1)\n",
    "    c2_aln = seq_lookup[c2.name] if c2.is_tip() else progressive_msa(sequences, pairwise_aligner, c2)\n",
    "\n",
    "    alignment, _, _ = pairwise_aligner(c1_aln, c2_aln)\n",
    "\n",
    "    return alignment\n"
   ]
  },
  {
   "cell_type": "code",
   "execution_count": 16,
   "metadata": {},
   "outputs": [
    {
     "name": "stdout",
     "output_type": "stream",
     "text": [
      "4x4 distance matrix\n",
      "IDs:\n",
      "'s1', 's2', 's3', 's4'\n",
      "Data:\n",
      "[[0. 1. 1. 1.]\n",
      " [1. 0. 0. 1.]\n",
      " [1. 0. 0. 1.]\n",
      " [1. 1. 1. 0.]]\n"
     ]
    }
   ],
   "source": [
    "\n",
    "query_of_sequences = [DNA(\"ATGGCTTTCTGCACACAGTTGAT\", {\"id\": \"s1\"}),\n",
    "                      DNA(\"GTCCGCAATTGAGCGGGGCTCCA\", {\"id\": \"s2\"}),\n",
    "                      DNA(\"GTCCGCAATTGAGCGGGGCTCCA\", {\"id\": \"s3\"}),\n",
    "                      DNA(\"AAGCTCAGCGCACTTGGCTTAAG\", {\"id\": \"s4\"}),\n",
    "                      ]\n",
    "guide_tree = guide_tree_from_sequences(query_of_sequences)"
   ]
  },
  {
   "cell_type": "code",
   "execution_count": 10,
   "metadata": {},
   "outputs": [
    {
     "name": "stdout",
     "output_type": "stream",
     "text": [
      "TabularMSA[DNA]\n",
      "----------------------------------\n",
      "Stats:\n",
      "    sequence count: 4\n",
      "    position count: 34\n",
      "----------------------------------\n",
      "-AAGC--TCAGC--GCACTTG------GCTTAAG\n",
      "ATGGCTTTCTGCACACAGTTGAT-----------\n",
      "---G---TCCGCA---A-TTGAGCGGGGCTCCA-\n",
      "---G---TCCGCA---A-TTGAGCGGGGCTCCA-\n"
     ]
    },
    {
     "name": "stderr",
     "output_type": "stream",
     "text": [
      "/home/codespace/.python/current/lib/python3.10/site-packages/skbio/alignment/_pairwise.py:595: EfficiencyWarning: You're using skbio's python implementation of Needleman-Wunsch alignment. This is known to be very slow (e.g., thousands of times slower than a native C implementation). We'll be adding a faster version soon (see https://github.com/biocore/scikit-bio/issues/254 to track progress on this).\n",
      "  warn(\"You're using skbio's python implementation of Needleman-Wunsch \"\n"
     ]
    }
   ],
   "source": [
    "aligner = partial(global_pairwise_align_nucleotide,match_score = 6,mismatch_score = -2, gap_open_penalty=4, gap_extend_penalty=1)\n",
    "MSA = progressive_msa(query_of_sequences, pairwise_aligner=aligner,guide_tree=guide_tree)\n",
    "print(MSA)\n"
   ]
  },
  {
   "cell_type": "code",
   "execution_count": null,
   "metadata": {},
   "outputs": [],
   "source": []
  }
 ],
 "metadata": {
  "kernelspec": {
   "display_name": "Python 3",
   "language": "python",
   "name": "python3"
  },
  "language_info": {
   "codemirror_mode": {
    "name": "ipython",
    "version": 3
   },
   "file_extension": ".py",
   "mimetype": "text/x-python",
   "name": "python",
   "nbconvert_exporter": "python",
   "pygments_lexer": "ipython3",
   "version": "3.10.4"
  },
  "orig_nbformat": 4,
  "vscode": {
   "interpreter": {
    "hash": "3ad933181bd8a04b432d3370b9dc3b0662ad032c4dfaa4e4f1596c548f763858"
   }
  }
 },
 "nbformat": 4,
 "nbformat_minor": 2
}
